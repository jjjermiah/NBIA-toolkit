{
 "cells": [
  {
   "cell_type": "markdown",
   "metadata": {},
   "source": [
    "# TUTORIAL\n",
    "### Description: \n",
    "This is a simple example of how to use the `nbiatoolkit` package."
   ]
  },
  {
   "cell_type": "markdown",
   "metadata": {},
   "source": [
    "# Setup \n",
    "\n",
    "By default the client will use the Public API with the Guest Login credentials.\n",
    "from the nbia which has access to all public data. \n",
    "\n",
    "To use your own credentials you can pass them in as parameters to the client using:\n",
    "\n",
    " `NBIAClient(username=\"YOUR_USERNAME\", password=\"YOUR_PASSWORD\")`"
   ]
  },
  {
   "cell_type": "code",
   "execution_count": 1,
   "metadata": {},
   "outputs": [
    {
     "name": "stdout",
     "output_type": "stream",
     "text": [
      "Requirement already satisfied: nbiatoolkit in /opt/homebrew/Caskroom/miniconda/base/envs/nbia/lib/python3.12/site-packages (0.1.0)\n",
      "Requirement already satisfied: pydicom<3.0.0,>=2.4.3 in /opt/homebrew/Caskroom/miniconda/base/envs/nbia/lib/python3.12/site-packages (from nbiatoolkit) (2.4.3)\n",
      "Requirement already satisfied: requests==2.31.0 in /opt/homebrew/Caskroom/miniconda/base/envs/nbia/lib/python3.12/site-packages (from nbiatoolkit) (2.31.0)\n",
      "Requirement already satisfied: charset-normalizer<4,>=2 in /opt/homebrew/Caskroom/miniconda/base/envs/nbia/lib/python3.12/site-packages (from requests==2.31.0->nbiatoolkit) (3.3.2)\n",
      "Requirement already satisfied: idna<4,>=2.5 in /opt/homebrew/Caskroom/miniconda/base/envs/nbia/lib/python3.12/site-packages (from requests==2.31.0->nbiatoolkit) (3.4)\n",
      "Requirement already satisfied: urllib3<3,>=1.21.1 in /opt/homebrew/Caskroom/miniconda/base/envs/nbia/lib/python3.12/site-packages (from requests==2.31.0->nbiatoolkit) (2.1.0)\n",
      "Requirement already satisfied: certifi>=2017.4.17 in /opt/homebrew/Caskroom/miniconda/base/envs/nbia/lib/python3.12/site-packages (from requests==2.31.0->nbiatoolkit) (2023.11.17)\n"
     ]
    }
   ],
   "source": [
    "!pip install nbiatoolkit"
   ]
  },
  {
   "cell_type": "code",
   "execution_count": 1,
   "metadata": {},
   "outputs": [
    {
     "name": "stderr",
     "output_type": "stream",
     "text": [
      "23-12-02 14:13 | NBIAClient | DEBUG | Setting up OAuth2 client... with username nbia_guest\n"
     ]
    }
   ],
   "source": [
    "%load_ext autoreload\n",
    "%autoreload 2\n",
    "\n",
    "from nbiatoolkit import NBIAClient\n",
    "from pprint import pprint\n",
    "\n",
    "# Instantiate the client. \n",
    "client = NBIAClient(log_level='debug')\n",
    "\n",
    "# NOTE::READTHEDOCS \n",
    "# THIS WILL FAIL UNTIL WE UPLOAD PACKAGE TO PYPI AND INSTALL VIA PIP"
   ]
  },
  {
   "cell_type": "code",
   "execution_count": 2,
   "metadata": {},
   "outputs": [],
   "source": [
    "# import nbiatoolkit \n",
    "# TODO::implement method forprint(nbiatoolkit.__version__)"
   ]
  },
  {
   "cell_type": "markdown",
   "metadata": {},
   "source": [
    "# Get Collection Methods"
   ]
  },
  {
   "cell_type": "markdown",
   "metadata": {},
   "source": [
    "#### get list of collection (names)\n",
    "`getCollections()`"
   ]
  },
  {
   "cell_type": "code",
   "execution_count": 2,
   "metadata": {},
   "outputs": [
    {
     "name": "stderr",
     "output_type": "stream",
     "text": [
      "23-12-02 14:13 | NBIAClient | DEBUG | Querying API endpoint: https://services.cancerimagingarchive.net/nbia-api/services/v2/getCollectionValues\n"
     ]
    },
    {
     "name": "stdout",
     "output_type": "stream",
     "text": [
      "['4D-Lung',\n",
      " 'A091105',\n",
      " 'ACNS0332',\n",
      " 'ACRIN-6698',\n",
      " 'ACRIN-Contralateral-Breast-MR']\n"
     ]
    }
   ],
   "source": [
    "collections = client.getCollections()\n",
    "pprint(collections[0:5])"
   ]
  },
  {
   "cell_type": "markdown",
   "metadata": {},
   "source": [
    "#### get Counts of Patients for each collection\n",
    "`getCollectionPatientCount()`"
   ]
  },
  {
   "cell_type": "code",
   "execution_count": 3,
   "metadata": {},
   "outputs": [
    {
     "name": "stderr",
     "output_type": "stream",
     "text": [
      "23-12-02 13:08 | NBIAClient | DEBUG | Querying API endpoint: https://services.cancerimagingarchive.net/nbia-api/services/getCollectionValuesAndCounts\n"
     ]
    },
    {
     "name": "stdout",
     "output_type": "stream",
     "text": [
      "[{'Collection': '4D-Lung', 'PatientCount': '20'},\n",
      " {'Collection': 'A091105', 'PatientCount': '83'},\n",
      " {'Collection': 'ACNS0332', 'PatientCount': '85'},\n",
      " {'Collection': 'ACRIN-6698', 'PatientCount': '385'},\n",
      " {'Collection': 'ACRIN-Contralateral-Breast-MR', 'PatientCount': '984'}]\n"
     ]
    }
   ],
   "source": [
    "collectionsPatientCount = client.getCollectionPatientCount()\n",
    "pprint(collectionsPatientCount[0:5])"
   ]
  },
  {
   "cell_type": "markdown",
   "metadata": {},
   "source": [
    "#### get Counts of Patients grouped by Body Parts\n",
    "`getBodyPartCounts(collection: str = \"\", modality: str = \"\")`"
   ]
  },
  {
   "cell_type": "code",
   "execution_count": 4,
   "metadata": {},
   "outputs": [
    {
     "name": "stderr",
     "output_type": "stream",
     "text": [
      "23-12-02 13:08 | NBIAClient | DEBUG | Querying API endpoint: https://services.cancerimagingarchive.net/nbia-api/services/getBodyPartValuesAndCounts\n"
     ]
    },
    {
     "name": "stdout",
     "output_type": "stream",
     "text": [
      "Total Number of Collections:98\n",
      "First 5 body parts:\n",
      "[{'BodyPartExamined': 'NOT SPECIFIED', 'Count': '8490'},\n",
      " {'BodyPartExamined': 'ABDOMEN', 'Count': '2968'},\n",
      " {'BodyPartExamined': 'ABDOMEN CAVIT', 'Count': '2'},\n",
      " {'BodyPartExamined': 'ABDOMENPELVIC', 'Count': '2'},\n",
      " {'BodyPartExamined': 'ABDOMENPELVIS', 'Count': '51'}]\n"
     ]
    }
   ],
   "source": [
    "bodypart_count = client.getBodyPartCounts()\n",
    "print(\"Total Number of Collections:\" + str(len(bodypart_count)))\n",
    "\n",
    "print(\"First 5 body parts:\")\n",
    "pprint(bodypart_count[0:5])"
   ]
  },
  {
   "cell_type": "markdown",
   "metadata": {},
   "source": [
    "# Get Patient Methods"
   ]
  },
  {
   "cell_type": "markdown",
   "metadata": {},
   "source": [
    "#### get Patient IDs by Collection and Modality\n",
    "`getPatientData(collection: str = \"\", modality: str = \"\")`"
   ]
  },
  {
   "cell_type": "code",
   "execution_count": 11,
   "metadata": {},
   "outputs": [
    {
     "name": "stderr",
     "output_type": "stream",
     "text": [
      "23-12-02 13:28 | NBIAClient | DEBUG | Parsing params: {'self': <nbiatoolkit.nbia.NBIAClient object at 0x11100eba0>, 'Collection': '4D-Lung', 'Modality': 'CT'}\n",
      "23-12-02 13:28 | NBIAClient | DEBUG | Querying API endpoint: https://services.cancerimagingarchive.net/nbia-api/services/v2/getPatientByCollectionAndModality\n"
     ]
    },
    {
     "name": "stdout",
     "output_type": "stream",
     "text": [
      "['100_HM10395', '101_HM10395', '102_HM10395', '103_HM10395', '104_HM10395']\n"
     ]
    }
   ],
   "source": [
    "patients = client.getPatients(Collection=\"4D-Lung\", Modality=\"CT\")\n",
    "pprint(patients[0:5])"
   ]
  },
  {
   "cell_type": "markdown",
   "metadata": {},
   "source": [
    "# Get Series Data"
   ]
  },
  {
   "cell_type": "markdown",
   "metadata": {},
   "source": [
    "#### get Series Data queried by parameters\n",
    "\n",
    "``` python\n",
    "getSeries(\n",
    "        Collection: str = \"\", \n",
    "        PatientID: str = \"\",\n",
    "        StudyInstanceUID: str = \"\",\n",
    "        Modality: str = \"\",\n",
    "        SeriesInstanceUID: str = \"\",\n",
    "        BodyPartExamined: str = \"\",\n",
    "        ManufacturerModelName: str = \"\",\n",
    "        Manufacturer: str = \"\") \n",
    "```"
   ]
  },
  {
   "cell_type": "code",
   "execution_count": 12,
   "metadata": {},
   "outputs": [
    {
     "name": "stderr",
     "output_type": "stream",
     "text": [
      "23-12-02 13:34 | NBIAClient | DEBUG | Querying API endpoint: https://services.cancerimagingarchive.net/nbia-api/services/v2/getSeries\n"
     ]
    },
    {
     "name": "stdout",
     "output_type": "stream",
     "text": [
      "There are 6690 series in the 4D-Lung collection.\n",
      "{'BodyPartExamined': 'LUNG',\n",
      " 'Collection': '4D-Lung',\n",
      " 'CollectionURI': 'https://doi.org/10.7937/K9/TCIA.2016.ELN8YGLE',\n",
      " 'FileSize': 26405988,\n",
      " 'ImageCount': 50,\n",
      " 'LicenseName': 'Creative Commons Attribution 3.0 Unported License',\n",
      " 'LicenseURI': 'http://creativecommons.org/licenses/by/3.0/',\n",
      " 'Manufacturer': 'Varian Imaging Laboratories, Switzerland',\n",
      " 'ManufacturerModelName': 'Trilogy Cone Beam CT',\n",
      " 'Modality': 'CT',\n",
      " 'PatientID': '100_HM10395',\n",
      " 'ProtocolName': '5.1 4DCT & ITV FB + 4D + INSP/EXP',\n",
      " 'SeriesDate': '1997-10-03 00:00:00.0',\n",
      " 'SeriesDescription': 'P4^P100^S113^I0, Gated, 70.0%',\n",
      " 'SeriesInstanceUID': '1.3.6.1.4.1.14519.5.2.1.6834.5010.189721824525842725510380467695',\n",
      " 'SeriesNumber': 507,\n",
      " 'SoftwareVersions': 'LightSpeedverrel',\n",
      " 'StudyInstanceUID': '1.3.6.1.4.1.14519.5.2.1.6834.5010.552215730027211807644647167706',\n",
      " 'TimeStamp': '2015-07-20 17:58:54.0'}\n"
     ]
    }
   ],
   "source": [
    "seriesJSON = client.getSeries(Collection=\"4D-Lung\")\n",
    "print(f\"There are {len(seriesJSON)} series in the 4D-Lung collection.\")\n",
    "pprint(seriesJSON[0])"
   ]
  },
  {
   "cell_type": "code",
   "execution_count": 17,
   "metadata": {},
   "outputs": [
    {
     "name": "stdout",
     "output_type": "stream",
     "text": [
      "There are 350 series for patient 100_HM10395.\n",
      "{'BodyPartExamined': 'LUNG',\n",
      " 'Collection': '4D-Lung',\n",
      " 'CollectionURI': 'https://doi.org/10.7937/K9/TCIA.2016.ELN8YGLE',\n",
      " 'FileSize': 26405988,\n",
      " 'ImageCount': 50,\n",
      " 'LicenseName': 'Creative Commons Attribution 3.0 Unported License',\n",
      " 'LicenseURI': 'http://creativecommons.org/licenses/by/3.0/',\n",
      " 'Manufacturer': 'Varian Imaging Laboratories, Switzerland',\n",
      " 'ManufacturerModelName': 'Trilogy Cone Beam CT',\n",
      " 'Modality': 'CT',\n",
      " 'PatientID': '100_HM10395',\n",
      " 'ProtocolName': '5.1 4DCT & ITV FB + 4D + INSP/EXP',\n",
      " 'SeriesDate': '1997-10-03 00:00:00.0',\n",
      " 'SeriesDescription': 'P4^P100^S113^I0, Gated, 70.0%',\n",
      " 'SeriesInstanceUID': '1.3.6.1.4.1.14519.5.2.1.6834.5010.189721824525842725510380467695',\n",
      " 'SeriesNumber': 507,\n",
      " 'SoftwareVersions': 'LightSpeedverrel',\n",
      " 'StudyInstanceUID': '1.3.6.1.4.1.14519.5.2.1.6834.5010.552215730027211807644647167706',\n",
      " 'TimeStamp': '2015-07-20 17:58:54.0'}\n"
     ]
    }
   ],
   "source": [
    "seriesbyPatientJSON = client.getSeries(PatientID=patients[0])\n",
    "print(f\"There are {len(seriesbyPatientJSON)} series for patient {patients[0]}.\")\n",
    "pprint(seriesbyPatientJSON[0])"
   ]
  },
  {
   "cell_type": "markdown",
   "metadata": {},
   "source": [
    "# download Series Data\n",
    "``` python\n",
    "downloadSeries(\n",
    "    SeriesInstanceUID: str,\n",
    "    downloadDir: str)\n",
    "```"
   ]
  },
  {
   "cell_type": "code",
   "execution_count": 8,
   "metadata": {},
   "outputs": [
    {
     "data": {
      "text/plain": [
       "['1.3.6.1.4.1.14519.5.2.1.6834.5010.189721824525842725510380467695',\n",
       " '1.3.6.1.4.1.14519.5.2.1.6834.5010.336250251691987239290048605884',\n",
       " '1.3.6.1.4.1.14519.5.2.1.6834.5010.227929163446067537882961857921',\n",
       " '1.3.6.1.4.1.14519.5.2.1.6834.5010.925990093742075237571072608963',\n",
       " '1.3.6.1.4.1.14519.5.2.1.6834.5010.139116724721865252687455544825']"
      ]
     },
     "execution_count": 8,
     "metadata": {},
     "output_type": "execute_result"
    }
   ],
   "source": [
    "# first get a list of the SeriesInstanceUIDs\n",
    "seriesUIDS = [series['SeriesInstanceUID'] for series in seriesJSON]\n",
    "seriesUIDS[0:5]"
   ]
  },
  {
   "cell_type": "code",
   "execution_count": 12,
   "metadata": {},
   "outputs": [
    {
     "name": "stderr",
     "output_type": "stream",
     "text": [
      "2023-11-20 16:55:28,455 | NBIAClient | INFO | Querying API endpoint: https://services.cancerimagingarchive.net/nbia-api/services/v2/getImageWithMD5Hash\n"
     ]
    },
    {
     "name": "stdout",
     "output_type": "stream",
     "text": [
      "Downloading to: /home/bioinf/bhklab/jermiah/projects/NBIA-toolkit/docs/data\n"
     ]
    },
    {
     "name": "stderr",
     "output_type": "stream",
     "text": [
      "2023-11-20 16:55:33,722 | NBIAClient | INFO | Querying API endpoint: https://services.cancerimagingarchive.net/nbia-api/services/v2/getImageWithMD5Hash\n",
      "2023-11-20 16:55:39,813 | NBIAClient | INFO | Querying API endpoint: https://services.cancerimagingarchive.net/nbia-api/services/v2/getImageWithMD5Hash\n",
      "2023-11-20 16:55:44,858 | NBIAClient | INFO | Querying API endpoint: https://services.cancerimagingarchive.net/nbia-api/services/v2/getImageWithMD5Hash\n",
      "2023-11-20 16:55:49,399 | NBIAClient | INFO | Querying API endpoint: https://services.cancerimagingarchive.net/nbia-api/services/v2/getImageWithMD5Hash\n"
     ]
    },
    {
     "name": "stdout",
     "output_type": "stream",
     "text": [
      "['1.3.6.1.4.1.14519.5.2.1.6834.5010.227929163446067537882961857921', '1.3.6.1.4.1.14519.5.2.1.6834.5010.336250251691987239290048605884', '1.3.6.1.4.1.14519.5.2.1.6834.5010.189721824525842725510380467695', '1.3.6.1.4.1.14519.5.2.1.6834.5010.925990093742075237571072608963', '1.3.6.1.4.1.14519.5.2.1.6834.5010.139116724721865252687455544825']\n"
     ]
    }
   ],
   "source": [
    "# call client.downloadSeries() on each SeriesInstanceUID\n",
    "import os\n",
    "downloadDir = \"./data\"\n",
    "os.makedirs(downloadDir, exist_ok=True)\n",
    "print(\"Downloading to: \" + os.path.abspath(downloadDir))\n",
    "for seriesUID in seriesUIDS[0:5]:\n",
    "    client.downloadSeries(seriesUID, downloadDir)\n",
    "    \n",
    "pprint(os.listdir(downloadDir))\n",
    "    "
   ]
  },
  {
   "cell_type": "code",
   "execution_count": null,
   "metadata": {},
   "outputs": [],
   "source": []
  }
 ],
 "metadata": {
  "kernelspec": {
   "display_name": "Python 3 (ipykernel)",
   "language": "python",
   "name": "python3"
  },
  "language_info": {
   "codemirror_mode": {
    "name": "ipython",
    "version": 3
   },
   "file_extension": ".py",
   "mimetype": "text/x-python",
   "name": "python",
   "nbconvert_exporter": "python",
   "pygments_lexer": "ipython3",
   "version": "3.12.0"
  }
 },
 "nbformat": 4,
 "nbformat_minor": 2
}
