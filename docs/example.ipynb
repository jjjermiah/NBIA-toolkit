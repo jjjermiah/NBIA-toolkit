{
 "cells": [
  {
   "cell_type": "markdown",
   "metadata": {},
   "source": [
    "# Example Usage: \n",
    "### Description: \n",
    "This is a simple example of how to use the `nbiatoolkit` package."
   ]
  },
  {
   "cell_type": "markdown",
   "metadata": {},
   "source": [
    "# Setup \n",
    "\n",
    "By default the client will use the Public API with the Guest Login credentials.\n",
    "from the nbia which has access to all public data. \n",
    "\n",
    "To use your own credentials you can pass them in as parameters to the client using:\n",
    "\n",
    " `NBIAClient(username=\"YOUR_USERNAME\", password=\"YOUR_PASSWORD\")`"
   ]
  },
  {
   "cell_type": "code",
   "execution_count": 1,
   "metadata": {},
   "outputs": [
    {
     "name": "stderr",
     "output_type": "stream",
     "text": [
      "2023-11-20 16:49:13,681 | NBIAClient | INFO | Setting up OAuth2 client... with username nbia_guest\n"
     ]
    }
   ],
   "source": [
    "from nbiatoolkit import NBIAClient\n",
    "\n",
    "# Instantiate the client. \n",
    "client = NBIAClient()"
   ]
  },
  {
   "cell_type": "code",
   "execution_count": 2,
   "metadata": {},
   "outputs": [],
   "source": [
    "# import nbiatoolkit \n",
    "# TODO::implement method forprint(nbiatoolkit.__version__)"
   ]
  },
  {
   "cell_type": "markdown",
   "metadata": {},
   "source": [
    "# Get Collection Methods"
   ]
  },
  {
   "cell_type": "markdown",
   "metadata": {},
   "source": [
    "#### Counts of Patients grouped by Body Parts\n",
    "`getBodyPartCounts(collection: str = \"\", modality: str = \"\")`"
   ]
  },
  {
   "cell_type": "code",
   "execution_count": 3,
   "metadata": {},
   "outputs": [
    {
     "name": "stderr",
     "output_type": "stream",
     "text": [
      "2023-11-20 16:49:13,981 | NBIAClient | INFO | Querying API endpoint: https://services.cancerimagingarchive.net/nbia-api/services/getBodyPartValuesAndCounts\n"
     ]
    },
    {
     "name": "stdout",
     "output_type": "stream",
     "text": [
      "Total Number of Collections:98\n",
      "First 5 body parts:\n",
      "[{'BodyPartExamined': 'NOT SPECIFIED', 'Count': '8490'},\n",
      " {'BodyPartExamined': 'ABDOMEN', 'Count': '2968'},\n",
      " {'BodyPartExamined': 'ABDOMEN CAVIT', 'Count': '2'},\n",
      " {'BodyPartExamined': 'ABDOMENPELVIC', 'Count': '2'},\n",
      " {'BodyPartExamined': 'ABDOMENPELVIS', 'Count': '51'}]\n"
     ]
    }
   ],
   "source": [
    "from pprint import pprint\n",
    "bodypart_count = client.getBodyPartCounts()\n",
    "print(\"Total Number of Collections:\" + str(len(bodypart_count)))\n",
    "\n",
    "print(\"First 5 body parts:\")\n",
    "pprint(bodypart_count[0:5])"
   ]
  },
  {
   "cell_type": "markdown",
   "metadata": {},
   "source": [
    "# Get Series Data\n",
    "\n",
    "``` python\n",
    "getSeries(\n",
    "        Collection: str = \"\", \n",
    "        PatientID: str = \"\",\n",
    "        StudyInstanceUID: str = \"\",\n",
    "        Modality: str = \"\",\n",
    "        SeriesInstanceUID: str = \"\",\n",
    "        BodyPartExamined: str = \"\",\n",
    "        ManufacturerModelName: str = \"\",\n",
    "        Manufacturer: str = \"\") \n",
    "```"
   ]
  },
  {
   "cell_type": "code",
   "execution_count": 5,
   "metadata": {},
   "outputs": [
    {
     "name": "stderr",
     "output_type": "stream",
     "text": [
      "2023-11-20 16:51:10,330 | NBIAClient | INFO | Querying API endpoint: https://services.cancerimagingarchive.net/nbia-api/services/v2/getSeries\n"
     ]
    }
   ],
   "source": [
    "seriesJSON = client.getSeries(Collection=\"4D-Lung\")"
   ]
  },
  {
   "cell_type": "code",
   "execution_count": 6,
   "metadata": {},
   "outputs": [
    {
     "name": "stdout",
     "output_type": "stream",
     "text": [
      "[{'BodyPartExamined': 'LUNG',\n",
      "  'Collection': '4D-Lung',\n",
      "  'CollectionURI': 'https://doi.org/10.7937/K9/TCIA.2016.ELN8YGLE',\n",
      "  'FileSize': 26405988,\n",
      "  'ImageCount': 50,\n",
      "  'LicenseName': 'Creative Commons Attribution 3.0 Unported License',\n",
      "  'LicenseURI': 'http://creativecommons.org/licenses/by/3.0/',\n",
      "  'Manufacturer': 'Varian Imaging Laboratories, Switzerland',\n",
      "  'ManufacturerModelName': 'Trilogy Cone Beam CT',\n",
      "  'Modality': 'CT',\n",
      "  'PatientID': '100_HM10395',\n",
      "  'ProtocolName': '5.1 4DCT & ITV FB + 4D + INSP/EXP',\n",
      "  'SeriesDate': '1997-10-03 00:00:00.0',\n",
      "  'SeriesDescription': 'P4^P100^S113^I0, Gated, 70.0%',\n",
      "  'SeriesInstanceUID': '1.3.6.1.4.1.14519.5.2.1.6834.5010.189721824525842725510380467695',\n",
      "  'SeriesNumber': 507,\n",
      "  'SoftwareVersions': 'LightSpeedverrel',\n",
      "  'StudyInstanceUID': '1.3.6.1.4.1.14519.5.2.1.6834.5010.552215730027211807644647167706',\n",
      "  'TimeStamp': '2015-07-20 17:58:54.0'},\n",
      " {'BodyPartExamined': 'LUNG',\n",
      "  'Collection': '4D-Lung',\n",
      "  'CollectionURI': 'https://doi.org/10.7937/K9/TCIA.2016.ELN8YGLE',\n",
      "  'FileSize': 26405988,\n",
      "  'ImageCount': 50,\n",
      "  'LicenseName': 'Creative Commons Attribution 3.0 Unported License',\n",
      "  'LicenseURI': 'http://creativecommons.org/licenses/by/3.0/',\n",
      "  'Manufacturer': 'Varian Imaging Laboratories, Switzerland',\n",
      "  'ManufacturerModelName': 'Trilogy Cone Beam CT',\n",
      "  'Modality': 'CT',\n",
      "  'PatientID': '100_HM10395',\n",
      "  'ProtocolName': '5.1 4DCT & ITV FB + 4D + INSP/EXP',\n",
      "  'SeriesDate': '1997-10-07 00:00:00.0',\n",
      "  'SeriesDescription': 'P4^P100^S116^I0, Gated, 70.0%',\n",
      "  'SeriesInstanceUID': '1.3.6.1.4.1.14519.5.2.1.6834.5010.336250251691987239290048605884',\n",
      "  'SeriesNumber': 507,\n",
      "  'SoftwareVersions': 'LightSpeedverrel',\n",
      "  'StudyInstanceUID': '1.3.6.1.4.1.14519.5.2.1.6834.5010.980344486630714096442107526343',\n",
      "  'TimeStamp': '2015-07-20 17:40:07.0'}]\n"
     ]
    }
   ],
   "source": [
    "from pprint import pprint\n",
    "\n",
    "pprint(seriesJSON[0:2])"
   ]
  },
  {
   "cell_type": "markdown",
   "metadata": {},
   "source": [
    "# download Series Data\n",
    "``` python\n",
    "downloadSeries(\n",
    "    SeriesInstanceUID: str,\n",
    "    downloadDir: str)\n",
    "```"
   ]
  },
  {
   "cell_type": "code",
   "execution_count": 8,
   "metadata": {},
   "outputs": [
    {
     "data": {
      "text/plain": [
       "['1.3.6.1.4.1.14519.5.2.1.6834.5010.189721824525842725510380467695',\n",
       " '1.3.6.1.4.1.14519.5.2.1.6834.5010.336250251691987239290048605884',\n",
       " '1.3.6.1.4.1.14519.5.2.1.6834.5010.227929163446067537882961857921',\n",
       " '1.3.6.1.4.1.14519.5.2.1.6834.5010.925990093742075237571072608963',\n",
       " '1.3.6.1.4.1.14519.5.2.1.6834.5010.139116724721865252687455544825']"
      ]
     },
     "execution_count": 8,
     "metadata": {},
     "output_type": "execute_result"
    }
   ],
   "source": [
    "# first get a list of the SeriesInstanceUIDs\n",
    "seriesUIDS = [series['SeriesInstanceUID'] for series in seriesJSON]\n",
    "seriesUIDS[0:5]"
   ]
  },
  {
   "cell_type": "code",
   "execution_count": 12,
   "metadata": {},
   "outputs": [
    {
     "name": "stderr",
     "output_type": "stream",
     "text": [
      "2023-11-20 16:55:28,455 | NBIAClient | INFO | Querying API endpoint: https://services.cancerimagingarchive.net/nbia-api/services/v2/getImageWithMD5Hash\n"
     ]
    },
    {
     "name": "stdout",
     "output_type": "stream",
     "text": [
      "Downloading to: /home/bioinf/bhklab/jermiah/projects/NBIA-toolkit/docs/data\n"
     ]
    },
    {
     "name": "stderr",
     "output_type": "stream",
     "text": [
      "2023-11-20 16:55:33,722 | NBIAClient | INFO | Querying API endpoint: https://services.cancerimagingarchive.net/nbia-api/services/v2/getImageWithMD5Hash\n",
      "2023-11-20 16:55:39,813 | NBIAClient | INFO | Querying API endpoint: https://services.cancerimagingarchive.net/nbia-api/services/v2/getImageWithMD5Hash\n",
      "2023-11-20 16:55:44,858 | NBIAClient | INFO | Querying API endpoint: https://services.cancerimagingarchive.net/nbia-api/services/v2/getImageWithMD5Hash\n",
      "2023-11-20 16:55:49,399 | NBIAClient | INFO | Querying API endpoint: https://services.cancerimagingarchive.net/nbia-api/services/v2/getImageWithMD5Hash\n"
     ]
    },
    {
     "name": "stdout",
     "output_type": "stream",
     "text": [
      "['1.3.6.1.4.1.14519.5.2.1.6834.5010.227929163446067537882961857921', '1.3.6.1.4.1.14519.5.2.1.6834.5010.336250251691987239290048605884', '1.3.6.1.4.1.14519.5.2.1.6834.5010.189721824525842725510380467695', '1.3.6.1.4.1.14519.5.2.1.6834.5010.925990093742075237571072608963', '1.3.6.1.4.1.14519.5.2.1.6834.5010.139116724721865252687455544825']\n"
     ]
    }
   ],
   "source": [
    "# call client.downloadSeries() on each SeriesInstanceUID\n",
    "import os\n",
    "downloadDir = \"./data\"\n",
    "os.makedirs(downloadDir, exist_ok=True)\n",
    "print(\"Downloading to: \" + os.path.abspath(downloadDir))\n",
    "for seriesUID in seriesUIDS[0:5]:\n",
    "    client.downloadSeries(seriesUID, downloadDir)\n",
    "    \n",
    "pprint(os.listdir(downloadDir))\n",
    "    "
   ]
  },
  {
   "cell_type": "code",
   "execution_count": null,
   "metadata": {},
   "outputs": [],
   "source": []
  }
 ],
 "metadata": {
  "kernelspec": {
   "display_name": "Python 3 (ipykernel)",
   "language": "python",
   "name": "python3"
  },
  "language_info": {
   "codemirror_mode": {
    "name": "ipython",
    "version": 3
   },
   "file_extension": ".py",
   "mimetype": "text/x-python",
   "name": "python",
   "nbconvert_exporter": "python",
   "pygments_lexer": "ipython3",
   "version": "3.12.0"
  }
 },
 "nbformat": 4,
 "nbformat_minor": 2
}
