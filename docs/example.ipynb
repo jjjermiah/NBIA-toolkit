{
 "cells": [
  {
   "cell_type": "markdown",
   "metadata": {},
   "source": [
    "# Example Usage: python3 examples.ipynb\n",
    "### Description: \n",
    "This is a simple example of how to use the `nbiatoolkit` package."
   ]
  },
  {
   "cell_type": "markdown",
   "metadata": {},
   "source": [
    "#### Setup \n",
    "\n",
    "By default the client will use the Public API with the Guest Login credentials.\n",
    "from the nbia which has access to all public data. \n",
    "\n",
    "To use your own credentials you can pass them in as parameters to the client using:\n",
    "\n",
    " `NBIAClient(username=\"YOUR_USERNAME\", password=\"YOUR_PASSWORD\")`"
   ]
  },
  {
   "cell_type": "code",
   "execution_count": 6,
   "metadata": {},
   "outputs": [
    {
     "name": "stderr",
     "output_type": "stream",
     "text": [
      "2023-11-19 17:45:24,124 | NBIAClient | INFO | Setting up OAuth2 client... with username nbia_guest\n",
      "2023-11-19 17:45:24,124 | NBIAClient | INFO | Setting up OAuth2 client... with username nbia_guest\n"
     ]
    }
   ],
   "source": [
    "from nbiatoolkit import NBIAClient\n",
    "\n",
    "# Instantiate the client. \n",
    "client = NBIAClient()"
   ]
  },
  {
   "cell_type": "code",
   "execution_count": 9,
   "metadata": {},
   "outputs": [],
   "source": [
    "# import nbiatoolkit \n",
    "# TODO::implement method forprint(nbiatoolkit.__version__)"
   ]
  },
  {
   "cell_type": "markdown",
   "metadata": {},
   "source": [
    "## Get Collection Methods"
   ]
  },
  {
   "cell_type": "markdown",
   "metadata": {},
   "source": [
    "#### Counts of Patients grouped by Body Parts\n",
    "`getBodyPartCounts(collection: str = \"\", modality: str = \"\")`"
   ]
  },
  {
   "cell_type": "code",
   "execution_count": 4,
   "metadata": {},
   "outputs": [
    {
     "name": "stderr",
     "output_type": "stream",
     "text": [
      "2023-11-19 17:42:42,892 | NBIAClient | INFO | Querying API endpoint: https://services.cancerimagingarchive.net/nbia-api/services/getBodyPartValuesAndCounts\n"
     ]
    },
    {
     "name": "stdout",
     "output_type": "stream",
     "text": [
      "Total Number of Collections:98\n",
      "First 5 body parts:\n",
      "[{'BodyPartExamined': 'NOT SPECIFIED', 'Count': '8490'},\n",
      " {'BodyPartExamined': 'ABDOMEN', 'Count': '2968'},\n",
      " {'BodyPartExamined': 'ABDOMEN CAVIT', 'Count': '2'},\n",
      " {'BodyPartExamined': 'ABDOMENPELVIC', 'Count': '2'},\n",
      " {'BodyPartExamined': 'ABDOMENPELVIS', 'Count': '51'}]\n"
     ]
    }
   ],
   "source": [
    "from pprint import pprint\n",
    "bodypart_count = client.getBodyPartCounts()\n",
    "print(\"Total Number of Collections:\" + str(len(bodypart_count)))\n",
    "\n",
    "print(\"First 5 body parts:\")\n",
    "pprint(bodypart_count[0:5])"
   ]
  },
  {
   "cell_type": "code",
   "execution_count": null,
   "metadata": {},
   "outputs": [],
   "source": []
  }
 ],
 "metadata": {
  "kernelspec": {
   "display_name": "Python 3 (ipykernel)",
   "language": "python",
   "name": "python3"
  },
  "language_info": {
   "codemirror_mode": {
    "name": "ipython",
    "version": 3
   },
   "file_extension": ".py",
   "mimetype": "text/x-python",
   "name": "python",
   "nbconvert_exporter": "python",
   "pygments_lexer": "ipython3",
   "version": "3.12.0"
  }
 },
 "nbformat": 4,
 "nbformat_minor": 2
}
